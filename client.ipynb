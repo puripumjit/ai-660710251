{
  "nbformat": 4,
  "nbformat_minor": 0,
  "metadata": {
    "colab": {
      "provenance": []
    },
    "kernelspec": {
      "name": "python3",
      "display_name": "Python 3"
    },
    "language_info": {
      "name": "python"
    }
  },
  "cells": [
    {
      "cell_type": "code",
      "execution_count": 1,
      "metadata": {
        "id": "h31o2rAccfjy"
      },
      "outputs": [],
      "source": [
        "import requests\n"
      ]
    },
    {
      "cell_type": "code",
      "source": [
        "url = 'https://0f8a26a1eceb.ngrok-free.app/predict'"
      ],
      "metadata": {
        "id": "7Im_lLU8eWId"
      },
      "execution_count": 7,
      "outputs": []
    },
    {
      "cell_type": "code",
      "source": [
        "data = {\n",
        "    \"age\": 63,\n",
        "    \"sex\": 1,\n",
        "    \"cp\": 3,\n",
        "    \"trestbps\": 145,\n",
        "    \"chol\": 233,\n",
        "    \"fbs\": 1,\n",
        "    \"restecg\": 0,\n",
        "    \"thalach\": 150,\n",
        "    \"exang\": 0,\n",
        "    \"oldpeak\": 2.3,\n",
        "    \"slope\": 0,\n",
        "    \"ca\": 0,\n",
        "    \"thal\": 1\n",
        "}"
      ],
      "metadata": {
        "id": "O7bCKF6xejQz"
      },
      "execution_count": 8,
      "outputs": []
    },
    {
      "cell_type": "code",
      "source": [
        "response = requests.post(url, json=data)\n"
      ],
      "metadata": {
        "id": "RAXglh0bemV6"
      },
      "execution_count": 9,
      "outputs": []
    },
    {
      "cell_type": "code",
      "source": [
        "print(response.json())"
      ],
      "metadata": {
        "colab": {
          "base_uri": "https://localhost:8080/"
        },
        "id": "TKI1oV87eoo6",
        "outputId": "71864963-defc-40ce-b11d-b824343e4a96"
      },
      "execution_count": 10,
      "outputs": [
        {
          "output_type": "stream",
          "name": "stdout",
          "text": [
            "{'prediction': 0}\n"
          ]
        }
      ]
    }
  ]
}